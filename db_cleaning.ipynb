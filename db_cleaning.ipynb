{
 "cells": [
  {
   "cell_type": "code",
   "execution_count": null,
   "metadata": {},
   "outputs": [],
   "source": [
    "!pip install pandas\n",
    "!pip install petl\n",
    "!pip install openpyxl\n",
    "!pip install glob\n",
    "\n"
   ]
  },
  {
   "cell_type": "code",
   "execution_count": null,
   "metadata": {},
   "outputs": [],
   "source": [
    "import pandas as pd\n",
    "import petl as etl\n",
    "import glob, os, json\n",
    "\n"
   ]
  },
  {
   "cell_type": "code",
   "execution_count": null,
   "metadata": {},
   "outputs": [],
   "source": [
    "#check CSV dfs\n",
    "#product_data =  etl.fromcsv('product_data/2010-2020_Bassetlaw_outlet.csv')\n",
    "#product_data.look()\n",
    "\n"
   ]
  },
  {
   "cell_type": "code",
   "execution_count": null,
   "metadata": {},
   "outputs": [],
   "source": [
    "#check json dfs\n",
    "#json_table = etl.fromjson('json_table/2010-2020_Ceredigion_store.json')\n",
    "#json_table.look()"
   ]
  },
  {
   "cell_type": "code",
   "execution_count": null,
   "metadata": {},
   "outputs": [],
   "source": [
    "#concatenate all CSV files \n",
    "path = \"data/original_product_data/\"\n",
    "\n",
    "all_files = glob.glob(os.path.join(path, \"*.csv\"))\n",
    "all_df = []\n",
    "for f in all_files:\n",
    "    print (\"...\")\n",
    "    df = pd.read_csv(f, sep=',')\n",
    "    #2010-2020_Bassetlaw_outlet.csv\n",
    "    file_name= \" \".join(f.split('/')[-1].split(\"_\")[1:]).replace(\".csv\", \"\").strip()\n",
    "    df['branch'] = file_name\n",
    "    all_df.append(df)\n",
    "    \n",
    "        \n",
    "merged_df = pd.concat(all_df, ignore_index=True, sort=True)\n",
    "merged_df"
   ]
  },
  {
   "cell_type": "code",
   "execution_count": null,
   "metadata": {},
   "outputs": [],
   "source": [
    "merged_df.to_csv(\"data/csv_product_data.csv\")"
   ]
  },
  {
   "cell_type": "code",
   "execution_count": null,
   "metadata": {},
   "outputs": [],
   "source": [
    "path = 'data/json_files_dir/'\n",
    "\n",
    "file_list = glob.glob(os.path.join(path, \"*.json\"))\n",
    "print(file_list)\n",
    "\n",
    "dfjson = []\n",
    "for file in file_list:\n",
    "    \n",
    "    print(\"...\")\n",
    "    json_data = pd.read_json(file)\n",
    "    file_name= \" \".join(file.split('/')[-1].split(\"_\")[1:]).replace(\".json\", \"\").strip()\n",
    "    json_data['branch'] = file_name \n",
    "    \n",
    "    dfjson.append(json_data)\n",
    "    \n",
    "merge_dfjson = pd.concat(dfjson, ignore_index=True, sort=True)\n",
    "(merge_dfjson)\n"
   ]
  },
  {
   "cell_type": "code",
   "execution_count": null,
   "metadata": {},
   "outputs": [],
   "source": [
    "#export to csv single file\n",
    "merge_dfjson.to_csv(\"json_product_data.csv\")"
   ]
  },
  {
   "cell_type": "code",
   "execution_count": null,
   "metadata": {},
   "outputs": [],
   "source": [
    "#inspect excel branch expenses data and create table\n",
    "expenses_db_table_excel = etl.fromxlsx('data/branch_expenses.xlsx')\n",
    "expenses_db_table_excel.look()"
   ]
  },
  {
   "cell_type": "code",
   "execution_count": null,
   "metadata": {},
   "outputs": [],
   "source": [
    "#inspect excel branch list data and create table\n",
    "blist_db_table_excel=etl.fromxlsx('data/branch_list.xlsx')\n",
    "blist_db_table_excel.look()"
   ]
  },
  {
   "cell_type": "code",
   "execution_count": null,
   "metadata": {},
   "outputs": [],
   "source": [
    "#inspect product list data and create table\n",
    "product_list = etl.fromcsv('data/original_product_data/products_list.csv')\n",
    "product_list.look()"
   ]
  },
  {
   "cell_type": "code",
   "execution_count": null,
   "metadata": {},
   "outputs": [],
   "source": [
    "#merge two excel tables\n",
    "table_c_excel = etl.join(blist_db_table_excel, expenses_db_table_excel)\n",
    "table_c_excel.look()"
   ]
  },
  {
   "cell_type": "code",
   "execution_count": null,
   "metadata": {},
   "outputs": [],
   "source": [
    "#rename column in excel table in accordance to the previous tables\n",
    "table_d_excel = etl.rename(table_c_excel, 'branch_name','branch')\n",
    "table_d_excel.look()"
   ]
  },
  {
   "cell_type": "code",
   "execution_count": null,
   "metadata": {},
   "outputs": [],
   "source": [
    "#already edited csv file data to etl table for manipulation\n",
    "db_table_csv=etl.fromcsv('data/csv_product_data.csv')\n",
    "\n",
    "db_table_csv.look()"
   ]
  },
  {
   "cell_type": "code",
   "execution_count": null,
   "metadata": {},
   "outputs": [],
   "source": [
    "#already edited json file data to etl table for manipulation\n",
    "db_table_json = etl.fromcsv('json_product_data.csv')\n",
    "db_table_json.look()"
   ]
  },
  {
   "cell_type": "code",
   "execution_count": null,
   "metadata": {},
   "outputs": [],
   "source": [
    "#join json table and excel table\n",
    "final_table_json=etl.lookupjoin(db_table_json, table_d_excel, key='branch')\n",
    "final_table_json.look()"
   ]
  },
  {
   "cell_type": "code",
   "execution_count": null,
   "metadata": {},
   "outputs": [],
   "source": [
    "#join csv table and excel table\n",
    "final_table_csv=etl.lookupjoin(db_table_csv, table_d_excel, key='branch')\n",
    "final_table_csv.look()"
   ]
  },
  {
   "cell_type": "code",
   "execution_count": null,
   "metadata": {},
   "outputs": [],
   "source": [
    "#concatenation of json and csv table\n",
    "final_unified_table= etl.cat(final_table_json, final_table_csv)"
   ]
  },
  {
   "cell_type": "code",
   "execution_count": null,
   "metadata": {},
   "outputs": [],
   "source": [
    "final_unified_table= etl.leftjoin(final_unified_table, product_list, key='product')\n",
    "final_unified_table.look()"
   ]
  },
  {
   "cell_type": "code",
   "execution_count": null,
   "metadata": {},
   "outputs": [],
   "source": [
    "#cleaning of column fields\n",
    "final_transformed_data_df= etl.addfield(final_unified_table, 'q', lambda cell:['total_quantity_purchased']+cell['quantity_purchased']+cell['total_quantity']+cell['quantity'])\n"
   ]
  },
  {
   "cell_type": "code",
   "execution_count": null,
   "metadata": {},
   "outputs": [],
   "source": [
    "#adding fields to goods column\n",
    "final_transformed_data_df=etl.addfield(final_transformed_data_df, 'goods', lambda cell:['product']+cell['item']+cell['sku'])"
   ]
  },
  {
   "cell_type": "code",
   "execution_count": null,
   "metadata": {},
   "outputs": [],
   "source": [
    "#table cleaning of columns\n",
    "table_clean= etl.cutout(final_transformed_data_df, 'total_quantity_purchased', 'quantity_purchased', 'product', 'sku' )\n",
    "\n",
    "\n"
   ]
  },
  {
   "cell_type": "code",
   "execution_count": null,
   "metadata": {},
   "outputs": [],
   "source": [
    "#Check before final export\n",
    "table_clean.look()"
   ]
  },
  {
   "cell_type": "code",
   "execution_count": null,
   "metadata": {},
   "outputs": [],
   "source": [
    "#export etl table to CSV for filtering and dash \n",
    "etl.tocsv(table_clean, 'final_cleaned_df.csv')"
   ]
  }
 ],
 "metadata": {
  "interpreter": {
   "hash": "aee8b7b246df8f9039afb4144a1f6fd8d2ca17a180786b69acc140d282b71a49"
  },
  "kernelspec": {
   "display_name": "Python 3.10.0 64-bit",
   "name": "python3"
  },
  "language_info": {
   "codemirror_mode": {
    "name": "ipython",
    "version": 3
   },
   "file_extension": ".py",
   "mimetype": "text/x-python",
   "name": "python",
   "nbconvert_exporter": "python",
   "pygments_lexer": "ipython3",
   "version": "3.10.0"
  }
 },
 "nbformat": 4,
 "nbformat_minor": 2
}
